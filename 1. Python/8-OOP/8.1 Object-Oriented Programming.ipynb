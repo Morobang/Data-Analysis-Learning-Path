{
 "cells": [
  {
   "cell_type": "markdown",
   "id": "9fb74761",
   "metadata": {},
   "source": [
    "# Object-Oriented Programming (OOP) in Python\n",
    "Welcome! In this notebook, we'll explore the **fundamentals of Object-Oriented Programming (OOP)** in a clear and simple way. We'll break everything down with easy explanations and examples, just like you're used to from the functions notebook.\n",
    "\n",
    "### What is OOP?\n",
    "OOP is a programming paradigm based on the concept of **objects**. Objects can contain **data** (attributes) and **functions** (methods) that operate on that data.\n",
    "\n",
    "Python is an object-oriented language, which means we can use OOP to make our code more organized, reusable, and easier to understand."
   ]
  },
  {
   "cell_type": "markdown",
   "id": "fe01f8d5",
   "metadata": {},
   "source": [
    "## 1. Classes and Objects\n",
    "In OOP, a **class** is like a blueprint for creating objects. An **object** is an instance of a class.\n",
    "\n",
    "**Example:** Let's create a simple class called `Person`."
   ]
  },
  {
   "cell_type": "code",
   "execution_count": null,
   "id": "59b21d2f",
   "metadata": {},
   "outputs": [],
   "source": [
    "class Person:\n",
    "    def __init__(self, name, age):\n",
    "        self.name = name  # attribute\n",
    "        self.age = age    # attribute\n",
    "\n",
    "    def greet(self):\n",
    "        print(f\"Hello, my name is {self.name} and I am {self.age} years old.\")"
   ]
  },
  {
   "cell_type": "markdown",
   "id": "64d48594",
   "metadata": {},
   "source": [
    "### Explanation:\n",
    "- `class Person:` defines a class named `Person`.\n",
    "- `__init__` is a special method called a **constructor**. It runs when we create an object.\n",
    "- `self.name` and `self.age` are **attributes**.\n",
    "- `greet(self)` is a **method** that prints a message."
   ]
  },
  {
   "cell_type": "markdown",
   "id": "795ec244",
   "metadata": {},
   "source": [
    "## 2. Creating an Object\n",
    "Now, let’s create an object (an instance of the class) and use the `greet()` method."
   ]
  },
  {
   "cell_type": "code",
   "execution_count": null,
   "id": "06c1158e",
   "metadata": {},
   "outputs": [],
   "source": [
    "person1 = Person(\"Alice\", 25)\n",
    "person1.greet()"
   ]
  },
  {
   "cell_type": "markdown",
   "id": "b89c5936",
   "metadata": {},
   "source": [
    "### Output:\n",
    "`Hello, my name is Alice and I am 25 years old.`"
   ]
  },
  {
   "cell_type": "markdown",
   "id": "fc0a14c7",
   "metadata": {},
   "source": [
    "## 3. Adding More Methods\n",
    "We can add more methods to our class. Let’s add a method to check if the person is an adult."
   ]
  },
  {
   "cell_type": "code",
   "execution_count": null,
   "id": "e5a9e692",
   "metadata": {},
   "outputs": [],
   "source": [
    "class Person:\n",
    "    def __init__(self, name, age):\n",
    "        self.name = name\n",
    "        self.age = age\n",
    "\n",
    "    def greet(self):\n",
    "        print(f\"Hello, my name is {self.name} and I am {self.age} years old.\")\n",
    "\n",
    "    def is_adult(self):\n",
    "        return self.age >= 18"
   ]
  },
  {
   "cell_type": "code",
   "execution_count": null,
   "id": "c210655e",
   "metadata": {},
   "outputs": [],
   "source": [
    "person2 = Person(\"Bob\", 17)\n",
    "print(person2.is_adult())  # False"
   ]
  },
  {
   "cell_type": "markdown",
   "id": "fddf21c6",
   "metadata": {},
   "source": [
    "### Output:\n",
    "`False` because Bob is not yet 18."
   ]
  },
  {
   "cell_type": "markdown",
   "id": "b93373f2",
   "metadata": {},
   "source": [
    "## Summary:\n",
    "- Classes are blueprints for creating objects.\n",
    "- Objects have **attributes** (data) and **methods** (functions).\n",
    "- We use `__init__` to initialize attributes when creating an object.\n",
    "- Methods like `greet()` and `is_adult()` let us define behavior.\n",
    "\n",
    "This is just the start. Next, we’ll learn about **inheritance**."
   ]
  }
 ],
 "metadata": {},
 "nbformat": 4,
 "nbformat_minor": 5
}
