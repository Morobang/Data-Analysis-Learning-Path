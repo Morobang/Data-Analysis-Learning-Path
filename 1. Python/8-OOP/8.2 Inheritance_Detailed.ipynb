{
 "cells": [
  {
   "cell_type": "markdown",
   "id": "575ce79b",
   "metadata": {},
   "source": [
    "# Inheritance in Python\n",
    "Welcome back! In this notebook, we'll learn about **Inheritance**, a powerful concept in Object-Oriented Programming (OOP).\n",
    "\n",
    "### What is Inheritance?\n",
    "Inheritance allows a class (called a **child class** or **subclass**) to inherit attributes and methods from another class (called a **parent class** or **superclass**).\n",
    "\n",
    "This helps us **reuse code** and avoid repetition."
   ]
  },
  {
   "cell_type": "markdown",
   "id": "e76c81fb",
   "metadata": {},
   "source": [
    "## 1. Creating a Parent Class\n",
    "Let’s create a basic class `Animal` with some common features."
   ]
  },
  {
   "cell_type": "code",
   "execution_count": null,
   "id": "2a1ab7b3",
   "metadata": {},
   "outputs": [],
   "source": [
    "class Animal:\n",
    "    def __init__(self, name):\n",
    "        self.name = name\n",
    "\n",
    "    def speak(self):\n",
    "        print(f\"{self.name} makes a sound\")"
   ]
  },
  {
   "cell_type": "markdown",
   "id": "f66eaa7b",
   "metadata": {},
   "source": [
    "### Explanation:\n",
    "- `Animal` is the parent class.\n",
    "- It has an `__init__` method and a `speak()` method.\n",
    "- Any child class can inherit these features."
   ]
  },
  {
   "cell_type": "markdown",
   "id": "1b10b32f",
   "metadata": {},
   "source": [
    "## 2. Creating a Child Class\n",
    "Let’s create a class `Dog` that inherits from `Animal`."
   ]
  },
  {
   "cell_type": "code",
   "execution_count": null,
   "id": "eb248f7e",
   "metadata": {},
   "outputs": [],
   "source": [
    "class Dog(Animal):\n",
    "    def speak(self):\n",
    "        print(f\"{self.name} says Woof!\")"
   ]
  },
  {
   "cell_type": "markdown",
   "id": "fd91fb80",
   "metadata": {},
   "source": [
    "### Explanation:\n",
    "- `Dog(Animal)` means Dog **inherits** from Animal.\n",
    "- We override the `speak()` method to give it Dog-specific behavior."
   ]
  },
  {
   "cell_type": "code",
   "execution_count": null,
   "id": "76788467",
   "metadata": {},
   "outputs": [],
   "source": [
    "dog1 = Dog(\"Buddy\")\n",
    "dog1.speak()  # Buddy says Woof!"
   ]
  },
  {
   "cell_type": "markdown",
   "id": "d80312d4",
   "metadata": {},
   "source": [
    "### Output:\n",
    "`Buddy says Woof!`"
   ]
  },
  {
   "cell_type": "markdown",
   "id": "117c9c40",
   "metadata": {},
   "source": [
    "## 3. Inheriting Methods Without Overriding\n",
    "If we don't override the method, it will use the parent class's version."
   ]
  },
  {
   "cell_type": "code",
   "execution_count": null,
   "id": "0720adc7",
   "metadata": {},
   "outputs": [],
   "source": [
    "class Cat(Animal):\n",
    "    pass  # No new methods, inherits everything from Animal"
   ]
  },
  {
   "cell_type": "code",
   "execution_count": null,
   "id": "478d044c",
   "metadata": {},
   "outputs": [],
   "source": [
    "cat1 = Cat(\"Whiskers\")\n",
    "cat1.speak()  # Whiskers makes a sound"
   ]
  },
  {
   "cell_type": "markdown",
   "id": "0073d91f",
   "metadata": {},
   "source": [
    "### Output:\n",
    "`Whiskers makes a sound`"
   ]
  },
  {
   "cell_type": "markdown",
   "id": "1244073b",
   "metadata": {},
   "source": [
    "## 4. Using `super()` to Extend Parent Method\n",
    "We can use `super()` to call the parent class's method inside the child class."
   ]
  },
  {
   "cell_type": "code",
   "execution_count": null,
   "id": "cce5b9fb",
   "metadata": {},
   "outputs": [],
   "source": [
    "class Bird(Animal):\n",
    "    def speak(self):\n",
    "        super().speak()\n",
    "        print(\"And it tweets too!\")"
   ]
  },
  {
   "cell_type": "code",
   "execution_count": null,
   "id": "9ddf9da5",
   "metadata": {},
   "outputs": [],
   "source": [
    "bird1 = Bird(\"Tweety\")\n",
    "bird1.speak()"
   ]
  },
  {
   "cell_type": "markdown",
   "id": "7a9b5268",
   "metadata": {},
   "source": [
    "### Output:\n",
    "```\n",
    "Tweety makes a sound\n",
    "And it tweets too!\n",
    "```"
   ]
  },
  {
   "cell_type": "markdown",
   "id": "4f4e3f69",
   "metadata": {},
   "source": [
    "## Summary:\n",
    "- Inheritance lets one class (child) use code from another class (parent).\n",
    "- Use `super()` to call methods from the parent.\n",
    "- Inheritance helps with **code reusability** and **organization**.\n",
    "\n",
    "Next up: **Encapsulation and Polymorphism**!"
   ]
  }
 ],
 "metadata": {},
 "nbformat": 4,
 "nbformat_minor": 5
}
