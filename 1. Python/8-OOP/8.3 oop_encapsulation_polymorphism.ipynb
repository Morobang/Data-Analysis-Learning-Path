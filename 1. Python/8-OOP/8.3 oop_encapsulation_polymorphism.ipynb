{
 "cells": [
  {
   "cell_type": "markdown",
   "id": "ca8be167",
   "metadata": {},
   "source": [
    "# Object-Oriented Programming (OOP) in Python\n",
    "## Encapsulation and Polymorphism\n",
    "In this notebook, we will cover two fundamental concepts of OOP: **Encapsulation** and **Polymorphism**."
   ]
  },
  {
   "cell_type": "markdown",
   "id": "03ed7fbe",
   "metadata": {},
   "source": [
    "## 📘 Encapsulation\n",
    "### 🧠 What is Encapsulation?\n",
    "Encapsulation is one of the fundamental concepts in OOP. It means **hiding the internal state and requiring all interaction to be performed through an object’s methods**.\n",
    "\n",
    "### ✅ Benefits of Encapsulation:\n",
    "- Protects the internal state of the object\n",
    "- Prevents external code from accidentally changing internal values\n",
    "- Improves modularity and maintenance"
   ]
  },
  {
   "cell_type": "markdown",
   "id": "2ffd7cda",
   "metadata": {},
   "source": [
    "### 🔹 1. Public and Private Attributes"
   ]
  },
  {
   "cell_type": "code",
   "execution_count": null,
   "id": "3dab7927",
   "metadata": {},
   "outputs": [],
   "source": [
    "class Person:\n",
    "    def __init__(self, name, age):\n",
    "        self.name = name       # public\n",
    "        self.__age = age       # private\n",
    "\n",
    "    def get_age(self):\n",
    "        return self.__age\n",
    "\n",
    "    def set_age(self, age):\n",
    "        if age > 0:\n",
    "            self.__age = age\n",
    "        else:\n",
    "            print(\"Invalid age\")\n",
    "\n",
    "p = Person(\"Alice\", 30)\n",
    "print(p.name)        # Alice\n",
    "print(p.get_age())   # 30\n",
    "p.set_age(-5)        # Invalid age\n",
    "p.set_age(35)\n",
    "print(p.get_age())   # 35"
   ]
  },
  {
   "cell_type": "markdown",
   "id": "641abe23",
   "metadata": {},
   "source": [
    "### 🔹 2. Why Use `__` for Private?\n",
    "- The double underscore (`__`) makes a variable \"private\".\n",
    "- It can’t be accessed directly outside the class.\n",
    "\n",
    "```python\n",
    "print(p.__age)  # ❌ This will raise an AttributeError\n",
    "```"
   ]
  },
  {
   "cell_type": "markdown",
   "id": "cc95d267",
   "metadata": {},
   "source": [
    "### ✅ Summary:\n",
    "- Use `_name` (protected) or `__name` (private) to restrict access\n",
    "- Provide methods like `get_` and `set_` to safely read or update data"
   ]
  },
  {
   "cell_type": "markdown",
   "id": "63d93fe6",
   "metadata": {},
   "source": [
    "## 🧪 Mini Task:\n",
    "Try creating a `BankAccount` class with private `balance` and public `name`, with `deposit()` and `withdraw()` methods."
   ]
  },
  {
   "cell_type": "markdown",
   "id": "aa2cd381",
   "metadata": {},
   "source": [
    "## 📙 Polymorphism\n",
    "### 🧠 What is Polymorphism?\n",
    "Polymorphism means **“many forms”**. It allows us to use the same interface (like a method) across different classes with different behaviors."
   ]
  },
  {
   "cell_type": "markdown",
   "id": "a4668920",
   "metadata": {},
   "source": [
    "### 🔹 1. Method Overriding Example:"
   ]
  },
  {
   "cell_type": "code",
   "execution_count": null,
   "id": "67c22cea",
   "metadata": {},
   "outputs": [],
   "source": [
    "class Animal:\n",
    "    def speak(self):\n",
    "        print(\"Animal makes a sound\")\n",
    "\n",
    "class Dog(Animal):\n",
    "    def speak(self):\n",
    "        print(\"Dog barks\")\n",
    "\n",
    "class Cat(Animal):\n",
    "    def speak(self):\n",
    "        print(\"Cat meows\")\n",
    "\n",
    "animals = [Dog(), Cat(), Animal()]\n",
    "\n",
    "for animal in animals:\n",
    "    animal.speak()"
   ]
  },
  {
   "cell_type": "markdown",
   "id": "515dbe6f",
   "metadata": {},
   "source": [
    "### ✅ Output:\n",
    "```\n",
    "Dog barks\n",
    "Cat meows\n",
    "Animal makes a sound\n",
    "```"
   ]
  },
  {
   "cell_type": "markdown",
   "id": "3b867dba",
   "metadata": {},
   "source": [
    "### 🔹 2. Polymorphism with Functions"
   ]
  },
  {
   "cell_type": "code",
   "execution_count": null,
   "id": "591bde45",
   "metadata": {},
   "outputs": [],
   "source": [
    "def animal_sound(animal):\n",
    "    animal.speak()\n",
    "\n",
    "animal_sound(Dog())  # Dog barks\n",
    "animal_sound(Cat())  # Cat meows\n",
    "```\n",
    "This works because both `Dog` and `Cat` implement the `speak()` method."
   ]
  },
  {
   "cell_type": "markdown",
   "id": "dcbcb3a8",
   "metadata": {},
   "source": [
    "### ✅ Summary:\n",
    "- Polymorphism enables writing flexible, reusable code\n",
    "- Same method name, different behaviors based on object type"
   ]
  },
  {
   "cell_type": "markdown",
   "id": "d39c1c57",
   "metadata": {},
   "source": [
    "### 🧪 Mini Task:\n",
    "Create `Bird`, `Fish`, and `Cow` classes that override a common method `move()` in different ways."
   ]
  }
 ],
 "metadata": {},
 "nbformat": 4,
 "nbformat_minor": 5
}
