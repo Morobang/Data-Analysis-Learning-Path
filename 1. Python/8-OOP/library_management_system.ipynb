{
 "cells": [
  {
   "cell_type": "markdown",
   "id": "b4d9fb99",
   "metadata": {},
   "source": [
    "# Library Management System\n",
    "This notebook contains a simple implementation of a Library Management System using Object-Oriented Programming concepts."
   ]
  },
  {
   "cell_type": "markdown",
   "id": "d300e88b",
   "metadata": {},
   "source": [
    "## 📘 Book Class\n",
    "The **Book** class represents a book in the library. It contains attributes like title, author, ISBN, and availability status."
   ]
  },
  {
   "cell_type": "code",
   "execution_count": null,
   "id": "feb22818",
   "metadata": {},
   "outputs": [],
   "source": [
    "class Book:\n",
    "    def __init__(self, title, author, isbn):\n",
    "        self.title = title\n",
    "        self.author = author\n",
    "        self.isbn = isbn\n",
    "        self.available = True\n",
    "\n",
    "    def __str__(self):\n",
    "        return f\"{self.title} by {self.author} (ISBN: {self.isbn}) - {'Available' if self.available else 'Checked out'}\""
   ]
  },
  {
   "cell_type": "markdown",
   "id": "585f2d20",
   "metadata": {},
   "source": [
    "## 📙 Member Class (Base Class)\n",
    "The **Member** class is a base class for library members. It includes methods for borrowing and returning books."
   ]
  },
  {
   "cell_type": "code",
   "execution_count": null,
   "id": "5e937cfe",
   "metadata": {},
   "outputs": [],
   "source": [
    "class Member:\n",
    "    def __init__(self, name, member_id):\n",
    "        self.name = name\n",
    "        self.member_id = member_id\n",
    "        self.borrowed_books = []\n",
    "\n",
    "    def borrow_book(self, book):\n",
    "        if book.available:\n",
    "            self.borrowed_books.append(book)\n",
    "            book.available = False\n",
    "            print(f\"{self.name} has borrowed '{book.title}'.\")\n",
    "        else:\n",
    "            print(f\"'{book.title}' is currently not available.\")\n",
    "\n",
    "    def return_book(self, book):\n",
    "        if book in self.borrowed_books:\n",
    "            self.borrowed_books.remove(book)\n",
    "            book.available = True\n",
    "            print(f\"{self.name} has returned '{book.title}'.\")\n",
    "        else:\n",
    "            print(f\"{self.name} doesn't have '{book.title}' borrowed.\")\n",
    "\n",
    "    def __str__(self):\n",
    "        return f\"{self.name} (ID: {self.member_id})\""
   ]
  },
  {
   "cell_type": "markdown",
   "id": "b776bcf2",
   "metadata": {},
   "source": [
    "## 📙 Inheritance: StudentMember and StaffMember\n",
    "The **StudentMember** and **StaffMember** classes inherit from the **Member** class."
   ]
  },
  {
   "cell_type": "code",
   "execution_count": null,
   "id": "766e266d",
   "metadata": {},
   "outputs": [],
   "source": [
    "class StudentMember(Member):\n",
    "    def __init__(self, name, member_id, grade):\n",
    "        super().__init__(name, member_id)\n",
    "        self.grade = grade\n",
    "\n",
    "    def __str__(self):\n",
    "        return f\"Student: {self.name}, Grade: {self.grade}, ID: {self.member_id}\"\n",
    "\n",
    "class StaffMember(Member):\n",
    "    def __init__(self, name, member_id, department):\n",
    "        super().__init__(name, member_id)\n",
    "        self.department = department\n",
    "\n",
    "    def __str__(self):\n",
    "        return f\"Staff: {self.name}, Dept: {self.department}, ID: {self.member_id}\""
   ]
  },
  {
   "cell_type": "markdown",
   "id": "eaab6bd8",
   "metadata": {},
   "source": [
    "## 📗 Library Class\n",
    "The **Library** class manages the collection of books and members."
   ]
  },
  {
   "cell_type": "code",
   "execution_count": null,
   "id": "3dd7cdb2",
   "metadata": {},
   "outputs": [],
   "source": [
    "class Library:\n",
    "    def __init__(self, name):\n",
    "        self.name = name\n",
    "        self.books = []\n",
    "        self.members = []\n",
    "\n",
    "    def add_book(self, book):\n",
    "        self.books.append(book)\n",
    "        print(f\"Book added: {book}\")\n",
    "\n",
    "    def add_member(self, member):\n",
    "        self.members.append(member)\n",
    "        print(f\"Member added: {member}\")\n",
    "\n",
    "    def display_books(self):\n",
    "        print(f\"\\n📚 Books in {self.name}:\")\n",
    "        for book in self.books:\n",
    "            print(f\"  - {book}\")\n",
    "\n",
    "    def display_members(self):\n",
    "        print(f\"\\n🧑 Members of {self.name}:\")\n",
    "        for member in self.members:\n",
    "            print(f\"  - {member}\")"
   ]
  },
  {
   "cell_type": "markdown",
   "id": "b5fe4f1e",
   "metadata": {},
   "source": [
    "## 🧪 Example Usage\n",
    "Let's create an instance of the library and demonstrate borrowing and returning books."
   ]
  },
  {
   "cell_type": "code",
   "execution_count": null,
   "id": "f03e3937",
   "metadata": {},
   "outputs": [],
   "source": [
    "if __name__ == '__main__':\n",
    "    # Create Library\n",
    "    my_library = Library(\"Morobang Village Library\")\n",
    "\n",
    "    # Create Books\n",
    "    book1 = Book(\"1984\", \"George Orwell\", \"123456\")\n",
    "    book2 = Book(\"Python Crash Course\", \"Eric Matthes\", \"654321\")\n",
    "\n",
    "    # Add Books\n",
    "    my_library.add_book(book1)\n",
    "    my_library.add_book(book2)\n",
    "\n",
    "    # Create Members\n",
    "    student = StudentMember(\"Tshigidimisa\", \"S001\", \"12A\")\n",
    "    staff = StaffMember(\"Ms. Dlamini\", \"T001\", \"IT Department\")\n",
    "\n",
    "    # Add Members\n",
    "    my_library.add_member(student)\n",
    "    my_library.add_member(staff)\n",
    "\n",
    "    # Display Books and Members\n",
    "    my_library.display_books()\n",
    "    my_library.display_members()\n",
    "\n",
    "    # Borrow and Return\n",
    "    student.borrow_book(book1)\n",
    "    staff.borrow_book(book1)  # Book already borrowed\n",
    "    student.return_book(book1)\n",
    "    staff.borrow_book(book1)\n",
    "\n",
    "    # Final Display\n",
    "    my_library.display_books()"
   ]
  }
 ],
 "metadata": {},
 "nbformat": 4,
 "nbformat_minor": 5
}
